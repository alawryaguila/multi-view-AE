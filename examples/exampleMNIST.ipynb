{
 "cells": [
  {
   "cell_type": "code",
   "execution_count": 1,
   "metadata": {},
   "outputs": [
    {
     "name": "stderr",
     "output_type": "stream",
     "text": [
      "c:\\Users\\anala\\Anaconda3\\envs\\testing_refactor\\lib\\site-packages\\tqdm-4.64.0-py3.8.egg\\tqdm\\auto.py:22: TqdmWarning: IProgress not found. Please update jupyter and ipywidgets. See https://ipywidgets.readthedocs.io/en/stable/user_install.html\n",
      "  from .autonotebook import tqdm as notebook_tqdm\n"
     ]
    }
   ],
   "source": [
    "import torch\n",
    "from torchvision import datasets, transforms\n",
    "from collections import OrderedDict\n",
    "from multiae import mcVAE, DVCCA\n",
    "import matplotlib.pyplot as plt\n",
    "import pandas as pd\n",
    "%matplotlib inline "
   ]
  },
  {
   "cell_type": "markdown",
   "metadata": {},
   "source": [
    "### Load the MNIST data"
   ]
  },
  {
   "cell_type": "code",
   "execution_count": 2,
   "metadata": {},
   "outputs": [
    {
     "name": "stderr",
     "output_type": "stream",
     "text": [
      "c:\\Users\\anala\\Anaconda3\\envs\\testing_refactor\\lib\\site-packages\\torchvision-0.13.1-py3.8-win-amd64.egg\\torchvision\\datasets\\mnist.py:75: UserWarning: train_data has been renamed data\n",
      "  warnings.warn(\"train_data has been renamed data\")\n",
      "c:\\Users\\anala\\Anaconda3\\envs\\testing_refactor\\lib\\site-packages\\torchvision-0.13.1-py3.8-win-amd64.egg\\torchvision\\datasets\\mnist.py:65: UserWarning: train_labels has been renamed targets\n",
      "  warnings.warn(\"train_labels has been renamed targets\")\n",
      "c:\\Users\\anala\\Anaconda3\\envs\\testing_refactor\\lib\\site-packages\\torchvision-0.13.1-py3.8-win-amd64.egg\\torchvision\\datasets\\mnist.py:80: UserWarning: test_data has been renamed data\n",
      "  warnings.warn(\"test_data has been renamed data\")\n",
      "c:\\Users\\anala\\Anaconda3\\envs\\testing_refactor\\lib\\site-packages\\torchvision-0.13.1-py3.8-win-amd64.egg\\torchvision\\datasets\\mnist.py:70: UserWarning: test_labels has been renamed targets\n",
      "  warnings.warn(\"test_labels has been renamed targets\")\n"
     ]
    }
   ],
   "source": [
    "MNIST_1 = datasets.MNIST('./data/MNIST', train=True, download=True, transform=transforms.Compose([\n",
    "        transforms.ToTensor(),\n",
    "    ]))\n",
    "\n",
    "\n",
    "\n",
    "data_1 = MNIST_1.train_data[:, :, :14].reshape(-1,392).float()/255.\n",
    "data_2 = MNIST_1.train_data[:, :, 14:].reshape(-1,392).float()/255.\n",
    "target = MNIST_1.train_labels\n",
    "\n",
    "MNIST_1 = datasets.MNIST('./data/MNIST', train=False, download=True, transform=transforms.Compose([\n",
    "        transforms.ToTensor()\n",
    "    ]))\n",
    "\n",
    "data_test_1 = MNIST_1.test_data[:, :, :14].reshape(-1,392).float()/255.\n",
    "data_test_2 = MNIST_1.test_data[:, :, 14:].reshape(-1,392).float()/255.\n",
    "target_test = MNIST_1.test_labels.numpy()\n"
   ]
  },
  {
   "cell_type": "markdown",
   "metadata": {},
   "source": [
    "### Define parameters"
   ]
  },
  {
   "cell_type": "code",
   "execution_count": 3,
   "metadata": {},
   "outputs": [],
   "source": [
    "input_dim=[392,392]\n",
    "max_epochs = 10\n",
    "batch_size = 2000\n",
    "latent_dim = 2"
   ]
  },
  {
   "cell_type": "markdown",
   "metadata": {},
   "source": [
    "### Define models"
   ]
  },
  {
   "cell_type": "code",
   "execution_count": 4,
   "metadata": {},
   "outputs": [
    {
     "name": "stdout",
     "output_type": "stream",
     "text": [
      "model_name:\n",
      "  mcVAE\n",
      "model:\n",
      "  use_GPU: false\n",
      "  save_model: true\n",
      "  seed_everything: true\n",
      "  seed: 42\n",
      "  z_dim: 64\n",
      "  learning_rate: 0.001\n",
      "  sparse: false\n",
      "  threshold: 0\n",
      "  beta: 1\n",
      "  \n",
      "datamodule:\n",
      "  _target_: multiae.base.dataloaders.MultiviewDataModule\n",
      "  batch_size: null\n",
      "  is_validate: true\n",
      "  train_size: 0.9\n",
      "  \n",
      "encoder:\n",
      "  _target_: multiae.models.layers.VariationalEncoder\n",
      "  hidden_layer_dim:\n",
      "  - 512\n",
      "  - 512\n",
      "  bias: true\n",
      "  non_linear: true\n",
      "  enc_dist:\n",
      "    _target_: multiae.base.distributions.Normal\n",
      "  \n",
      "decoder:\n",
      "  _target_: multiae.architectures.mlp.Decoder\n",
      "  hidden_layer_dim:\n",
      "  - 512\n",
      "  - 512\n",
      "  bias: true\n",
      "  non_linear: true\n",
      "  dec_dist:\n",
      "    _target_: multiae.base.distributions.Default\n",
      "  init_logvar: -3\n",
      "  \n",
      "prior:\n",
      "  _target_: multiae.base.distributions.Normal\n",
      "  loc: 0\n",
      "  scale: 1\n",
      "  \n",
      "trainer:\n",
      "  _target_: pytorch_lightning.Trainer\n",
      "  gpus: 0\n",
      "  max_epochs: 10\n",
      "  deterministic: false\n",
      "  log_every_n_steps: 2\n",
      "  resume_from_checkpoint: null\n",
      "  \n",
      "callbacks:\n",
      "  model_checkpoint:\n",
      "    _target_: pytorch_lightning.callbacks.ModelCheckpoint\n",
      "    monitor: val_loss\n",
      "    mode: min\n",
      "    save_last: true\n",
      "    dirpath: ${out_dir}\n",
      "  early_stopping:\n",
      "    _target_: pytorch_lightning.callbacks.EarlyStopping\n",
      "    monitor: val_loss\n",
      "    mode: min\n",
      "    patience: 50\n",
      "    min_delta: 0.001\n",
      "    verbose: true\n",
      "  \n",
      "logger:\n",
      "  _target_: pytorch_lightning.loggers.tensorboard.TensorBoardLogger\n",
      "  save_dir: ${out_dir}/logs\n",
      "  \n"
     ]
    },
    {
     "ename": "NameError",
     "evalue": "name 'exit' is not defined",
     "output_type": "error",
     "traceback": [
      "\u001b[1;31m---------------------------------------------------------------------------\u001b[0m",
      "\u001b[1;31mNameError\u001b[0m                                 Traceback (most recent call last)",
      "\u001b[1;32mc:\\Users\\anala\\Documents\\PhD\\year_2\\testing_refactor\\multiAE\\examples\\exampleMNIST.ipynb Cell 7\u001b[0m in \u001b[0;36m<cell line: 1>\u001b[1;34m()\u001b[0m\n\u001b[1;32m----> <a href='vscode-notebook-cell:/c%3A/Users/anala/Documents/PhD/year_2/testing_refactor/multiAE/examples/exampleMNIST.ipynb#W6sZmlsZQ%3D%3D?line=0'>1</a>\u001b[0m mcvae \u001b[39m=\u001b[39m mcVAE(\n\u001b[0;32m      <a href='vscode-notebook-cell:/c%3A/Users/anala/Documents/PhD/year_2/testing_refactor/multiAE/examples/exampleMNIST.ipynb#W6sZmlsZQ%3D%3D?line=1'>2</a>\u001b[0m         cfg\u001b[39m=\u001b[39;49m\u001b[39m\"\u001b[39;49m\u001b[39m./config/example_mnist.yaml\u001b[39;49m\u001b[39m\"\u001b[39;49m,\n\u001b[0;32m      <a href='vscode-notebook-cell:/c%3A/Users/anala/Documents/PhD/year_2/testing_refactor/multiAE/examples/exampleMNIST.ipynb#W6sZmlsZQ%3D%3D?line=2'>3</a>\u001b[0m         input_dim\u001b[39m=\u001b[39;49minput_dim,\n\u001b[0;32m      <a href='vscode-notebook-cell:/c%3A/Users/anala/Documents/PhD/year_2/testing_refactor/multiAE/examples/exampleMNIST.ipynb#W6sZmlsZQ%3D%3D?line=3'>4</a>\u001b[0m         z_dim\u001b[39m=\u001b[39;49mlatent_dim,\n\u001b[0;32m      <a href='vscode-notebook-cell:/c%3A/Users/anala/Documents/PhD/year_2/testing_refactor/multiAE/examples/exampleMNIST.ipynb#W6sZmlsZQ%3D%3D?line=4'>5</a>\u001b[0m     )\n\u001b[0;32m      <a href='vscode-notebook-cell:/c%3A/Users/anala/Documents/PhD/year_2/testing_refactor/multiAE/examples/exampleMNIST.ipynb#W6sZmlsZQ%3D%3D?line=5'>6</a>\u001b[0m dvcca \u001b[39m=\u001b[39m DVCCA(\n\u001b[0;32m      <a href='vscode-notebook-cell:/c%3A/Users/anala/Documents/PhD/year_2/testing_refactor/multiAE/examples/exampleMNIST.ipynb#W6sZmlsZQ%3D%3D?line=6'>7</a>\u001b[0m         cfg\u001b[39m=\u001b[39m\u001b[39m\"\u001b[39m\u001b[39m./config/example_mnist.yaml\u001b[39m\u001b[39m\"\u001b[39m,\n\u001b[0;32m      <a href='vscode-notebook-cell:/c%3A/Users/anala/Documents/PhD/year_2/testing_refactor/multiAE/examples/exampleMNIST.ipynb#W6sZmlsZQ%3D%3D?line=7'>8</a>\u001b[0m         input_dim\u001b[39m=\u001b[39minput_dim,\n\u001b[0;32m      <a href='vscode-notebook-cell:/c%3A/Users/anala/Documents/PhD/year_2/testing_refactor/multiAE/examples/exampleMNIST.ipynb#W6sZmlsZQ%3D%3D?line=8'>9</a>\u001b[0m         z_dim\u001b[39m=\u001b[39mlatent_dim,\n\u001b[0;32m     <a href='vscode-notebook-cell:/c%3A/Users/anala/Documents/PhD/year_2/testing_refactor/multiAE/examples/exampleMNIST.ipynb#W6sZmlsZQ%3D%3D?line=9'>10</a>\u001b[0m     )\n",
      "File \u001b[1;32mc:\\Users\\anala\\Anaconda3\\envs\\testing_refactor\\lib\\site-packages\\multiae\\models\\mcvae.py:39\u001b[0m, in \u001b[0;36mmcVAE.__init__\u001b[1;34m(self, cfg, input_dim, z_dim)\u001b[0m\n\u001b[0;32m     33\u001b[0m \u001b[39mdef\u001b[39;00m \u001b[39m__init__\u001b[39m(\n\u001b[0;32m     34\u001b[0m     \u001b[39mself\u001b[39m,\n\u001b[0;32m     35\u001b[0m     cfg \u001b[39m=\u001b[39m \u001b[39mNone\u001b[39;00m,\n\u001b[0;32m     36\u001b[0m     input_dim \u001b[39m=\u001b[39m \u001b[39mNone\u001b[39;00m,\n\u001b[0;32m     37\u001b[0m     z_dim \u001b[39m=\u001b[39m \u001b[39mNone\u001b[39;00m\n\u001b[0;32m     38\u001b[0m ):\n\u001b[1;32m---> 39\u001b[0m     \u001b[39msuper\u001b[39;49m()\u001b[39m.\u001b[39;49m\u001b[39m__init__\u001b[39;49m(model_name\u001b[39m=\u001b[39;49mMODEL_MCVAE,\n\u001b[0;32m     40\u001b[0m                     cfg\u001b[39m=\u001b[39;49mcfg,\n\u001b[0;32m     41\u001b[0m                     input_dim\u001b[39m=\u001b[39;49minput_dim,\n\u001b[0;32m     42\u001b[0m                     z_dim\u001b[39m=\u001b[39;49mz_dim)\n",
      "File \u001b[1;32mc:\\Users\\anala\\Anaconda3\\envs\\testing_refactor\\lib\\site-packages\\multiae\\base\\base_model.py:424\u001b[0m, in \u001b[0;36mBaseModelVAE.__init__\u001b[1;34m(self, model_name, cfg, input_dim, z_dim)\u001b[0m\n\u001b[0;32m    415\u001b[0m \u001b[39m@abstractmethod\u001b[39m\n\u001b[0;32m    416\u001b[0m \u001b[39mdef\u001b[39;00m \u001b[39m__init__\u001b[39m(\n\u001b[0;32m    417\u001b[0m     \u001b[39mself\u001b[39m,\n\u001b[1;32m   (...)\u001b[0m\n\u001b[0;32m    421\u001b[0m     z_dim \u001b[39m=\u001b[39m \u001b[39mNone\u001b[39;00m\n\u001b[0;32m    422\u001b[0m ):\n\u001b[1;32m--> 424\u001b[0m     \u001b[39msuper\u001b[39;49m()\u001b[39m.\u001b[39;49m\u001b[39m__init__\u001b[39;49m(model_name\u001b[39m=\u001b[39;49mmodel_name,\n\u001b[0;32m    425\u001b[0m             cfg\u001b[39m=\u001b[39;49mcfg,\n\u001b[0;32m    426\u001b[0m             input_dim\u001b[39m=\u001b[39;49minput_dim,\n\u001b[0;32m    427\u001b[0m             z_dim\u001b[39m=\u001b[39;49mz_dim)\n",
      "File \u001b[1;32mc:\\Users\\anala\\Anaconda3\\envs\\testing_refactor\\lib\\site-packages\\multiae\\base\\base_model.py:88\u001b[0m, in \u001b[0;36mBaseModelAE.__init__\u001b[1;34m(self, model_name, cfg, input_dim, z_dim)\u001b[0m\n\u001b[0;32m     86\u001b[0m \u001b[39m# validate model configuration\u001b[39;00m\n\u001b[0;32m     87\u001b[0m \u001b[39mself\u001b[39m\u001b[39m.\u001b[39mprint_config(def_cfg)\n\u001b[1;32m---> 88\u001b[0m exit()\n\u001b[0;32m     89\u001b[0m \u001b[39mself\u001b[39m\u001b[39m.\u001b[39mcfg \u001b[39m=\u001b[39m \u001b[39mself\u001b[39m\u001b[39m.\u001b[39m__checkconfig(def_cfg)\n\u001b[0;32m     91\u001b[0m \u001b[39mif\u001b[39;00m \u001b[39mself\u001b[39m\u001b[39m.\u001b[39mz_dim \u001b[39mis\u001b[39;00m \u001b[39mnot\u001b[39;00m \u001b[39mNone\u001b[39;00m:   \u001b[39m# overrides hydra config... passed arg has precedence\u001b[39;00m\n",
      "\u001b[1;31mNameError\u001b[0m: name 'exit' is not defined"
     ]
    }
   ],
   "source": [
    "mcvae = mcVAE(\n",
    "        cfg=\"./config/example_mnist.yaml\",\n",
    "        input_dim=input_dim,\n",
    "        z_dim=latent_dim,\n",
    "    )\n",
    "dvcca = DVCCA(\n",
    "        cfg=\"./config/example_mnist.yaml\",\n",
    "        input_dim=input_dim,\n",
    "        z_dim=latent_dim,\n",
    "    )\n"
   ]
  },
  {
   "cell_type": "markdown",
   "metadata": {},
   "source": [
    "### Train the models"
   ]
  },
  {
   "cell_type": "code",
   "execution_count": null,
   "metadata": {},
   "outputs": [],
   "source": [
    "\n",
    "mcvae.fit(data_1, data_2, max_epochs=max_epochs, batch_size=batch_size)\n",
    "dvcca.fit(data_1, data_2, max_epochs=max_epochs, batch_size=batch_size)"
   ]
  },
  {
   "cell_type": "markdown",
   "metadata": {},
   "source": [
    "### Create latent plots - how well does the latent space separate MNIST labels?"
   ]
  },
  {
   "cell_type": "code",
   "execution_count": null,
   "metadata": {},
   "outputs": [],
   "source": [
    "mcvae_latent = mcvae.predict_latents(data_test_1, data_test_2)\n",
    "dvcca_latent = dvcca.predict_latents(data_test_1, data_test_2)"
   ]
  },
  {
   "cell_type": "code",
   "execution_count": null,
   "metadata": {},
   "outputs": [],
   "source": [
    "colors =        {0: 'tab:blue',\n",
    "                 1:'tab:orange',\n",
    "                 2: 'r',\n",
    "                 3: 'c',\n",
    "                 4: 'm',\n",
    "                 5: 'y',\n",
    "                 6: 'g',\n",
    "                 7: 'k',\n",
    "                 8: 'tab:pink',\n",
    "                 9: 'tab:gray'\n",
    "                 }\n",
    "fig=plt.figure(figsize=(8,6)) \n",
    "ax1 = fig.add_subplot(1, 1, 1)\n",
    "ax1.scatter(dvcca_latent[0][:,0], dvcca_latent[0][:,1], c=pd.Series(target_test).map(colors))\n",
    "ax1.set_title('DVCCA latent vectors')\n",
    "handles, labels = plt.gca().get_legend_handles_labels()\n",
    "by_label = OrderedDict(zip(labels, handles))\n",
    "plt.legend(by_label.values(), by_label.keys())\n",
    "plt.tight_layout()\n",
    "plt.show()"
   ]
  },
  {
   "cell_type": "code",
   "execution_count": null,
   "metadata": {},
   "outputs": [],
   "source": [
    "fig=plt.figure(figsize=(8,6)) \n",
    "ax1 = fig.add_subplot(1, 2, 1)\n",
    "ax1.scatter(mcvae_latent[0][:,0], mcvae_latent[0][:,1], c=pd.Series(target_test).map(colors))\n",
    "ax1.set_title('mcVAE latent vectors view 1')\n",
    "ax2 = fig.add_subplot(1, 2, 2)\n",
    "ax2.scatter(mcvae_latent[1][:,0], mcvae_latent[1][:,1], c=pd.Series(target_test).map(colors))\n",
    "ax2.set_title('mcVAE latent vectors view 2')\n",
    "handles, labels = plt.gca().get_legend_handles_labels()\n",
    "by_label = OrderedDict(zip(labels, handles))\n",
    "plt.legend(by_label.values(), by_label.keys())\n",
    "plt.tight_layout()\n",
    "plt.show()"
   ]
  },
  {
   "cell_type": "markdown",
   "metadata": {},
   "source": [
    "### mcVAE reconstruction example"
   ]
  },
  {
   "cell_type": "code",
   "execution_count": null,
   "metadata": {},
   "outputs": [],
   "source": [
    "pred = mcvae.predict_reconstruction(data_1, data_2)"
   ]
  },
  {
   "cell_type": "markdown",
   "metadata": {},
   "source": [
    "### Reconstruction plots - how well can the VAE do same view reconstruction?"
   ]
  },
  {
   "cell_type": "code",
   "execution_count": null,
   "metadata": {},
   "outputs": [],
   "source": [
    "data_sample = data_1[20]\n",
    "#indices: view 1 latent, view 1 decoder, sample 21\n",
    "pred_sample = pred[0][0][20]"
   ]
  },
  {
   "cell_type": "code",
   "execution_count": null,
   "metadata": {},
   "outputs": [],
   "source": [
    "fig, axarr = plt.subplots(1, 2)\n",
    "plt.rc('text', usetex=True)\n",
    "plt.rc('font', family='serif')\n",
    "axarr[0].imshow(data_sample.reshape(28,28))\n",
    "axarr[1].imshow(pred_sample.reshape(28,28))"
   ]
  },
  {
   "cell_type": "markdown",
   "metadata": {},
   "source": [
    "### Reconstruction plots - how well can the VAE do cross view reconstruction?"
   ]
  },
  {
   "cell_type": "code",
   "execution_count": null,
   "metadata": {},
   "outputs": [],
   "source": [
    "data_sample = data_1[20]\n",
    "#indices: view 1 latent, view 2 decoder, sample 21\n",
    "pred_sample = pred[1][1][20]"
   ]
  },
  {
   "cell_type": "code",
   "execution_count": null,
   "metadata": {
    "scrolled": true
   },
   "outputs": [],
   "source": [
    "fig, axarr = plt.subplots(1, 2)\n",
    "plt.rc('text', usetex=True)\n",
    "plt.rc('font', family='serif')\n",
    "axarr[0].imshow(data_sample.reshape(28,28))\n",
    "axarr[1].imshow(pred_sample.reshape(28,28))"
   ]
  },
  {
   "cell_type": "code",
   "execution_count": null,
   "metadata": {},
   "outputs": [],
   "source": []
  }
 ],
 "metadata": {
  "interpreter": {
   "hash": "1709afe03fa00ba88f23faaf8e458977b17357d1fcbb4bdb862ac5abfdfb02b0"
  },
  "kernelspec": {
   "display_name": "Python 3.8.13 ('testing_refactor')",
   "language": "python",
   "name": "python3"
  },
  "language_info": {
   "codemirror_mode": {
    "name": "ipython",
    "version": 3
   },
   "file_extension": ".py",
   "mimetype": "text/x-python",
   "name": "python",
   "nbconvert_exporter": "python",
   "pygments_lexer": "ipython3",
   "version": "3.8.13"
  }
 },
 "nbformat": 4,
 "nbformat_minor": 2
}
