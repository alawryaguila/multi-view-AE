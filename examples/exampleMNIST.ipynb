{
 "cells": [
  {
   "cell_type": "code",
   "execution_count": 2,
   "metadata": {},
   "outputs": [],
   "source": [
    "import torch\n",
    "from torchvision import datasets, transforms\n",
    "from collections import OrderedDict\n",
    "from multiae import mcVAE, DVCCA\n",
    "import matplotlib.pyplot as plt\n",
    "import pandas as pd\n",
    "%matplotlib inline "
   ]
  },
  {
   "cell_type": "markdown",
   "metadata": {},
   "source": [
    "### Load the MNIST data"
   ]
  },
  {
   "cell_type": "code",
   "execution_count": 3,
   "metadata": {},
   "outputs": [
    {
     "name": "stderr",
     "output_type": "stream",
     "text": [
      "c:\\Users\\anala\\Anaconda3\\envs\\testing_doc\\lib\\site-packages\\torchvision\\datasets\\mnist.py:75: UserWarning: train_data has been renamed data\n",
      "  warnings.warn(\"train_data has been renamed data\")\n",
      "c:\\Users\\anala\\Anaconda3\\envs\\testing_doc\\lib\\site-packages\\torchvision\\datasets\\mnist.py:65: UserWarning: train_labels has been renamed targets\n",
      "  warnings.warn(\"train_labels has been renamed targets\")\n",
      "c:\\Users\\anala\\Anaconda3\\envs\\testing_doc\\lib\\site-packages\\torchvision\\datasets\\mnist.py:80: UserWarning: test_data has been renamed data\n",
      "  warnings.warn(\"test_data has been renamed data\")\n",
      "c:\\Users\\anala\\Anaconda3\\envs\\testing_doc\\lib\\site-packages\\torchvision\\datasets\\mnist.py:70: UserWarning: test_labels has been renamed targets\n",
      "  warnings.warn(\"test_labels has been renamed targets\")\n"
     ]
    }
   ],
   "source": [
    "MNIST_1 = datasets.MNIST('./data/MNIST', train=True, download=True, transform=transforms.Compose([\n",
    "        transforms.ToTensor()\n",
    "    ]))\n",
    "MNIST_2 = datasets.MNIST('./data/MNIST', train=True, download=True, transform=transforms.Compose([\n",
    "        transforms.ToTensor(),        \n",
    "    ]))\n",
    "\n",
    "data_1 = MNIST_1.train_data.reshape(-1, 784).float() / 255.\n",
    "target = MNIST_1.train_labels\n",
    "data_2 = MNIST_2.train_data.float()\n",
    "data_2 = torch.rot90(data_2, 1, [1, 2])\n",
    "data_2 = data_2.reshape(-1,784)/255.\n",
    "\n",
    "MNIST_1 = datasets.MNIST('./data/MNIST', train=False, download=True, transform=transforms.Compose([\n",
    "        transforms.ToTensor()\n",
    "    ]))\n",
    "MNIST_2 = datasets.MNIST('./data/MNIST', train=False, download=True, transform=transforms.Compose([\n",
    "        transforms.ToTensor(),        \n",
    "    ]))\n",
    "\n",
    "data_test_1 = MNIST_1.test_data.reshape(-1, 784).float() / 255.\n",
    "target_test = MNIST_1.test_labels.numpy()\n",
    "data_test_2 = MNIST_2.test_data.float() / 255.\n",
    "data_test_2 = torch.rot90(data_test_2, 1, [1, 2])\n",
    "data_test_2 = data_test_2.reshape(-1,784)\n"
   ]
  },
  {
   "cell_type": "markdown",
   "metadata": {},
   "source": [
    "### Define parameters"
   ]
  },
  {
   "cell_type": "code",
   "execution_count": 4,
   "metadata": {},
   "outputs": [],
   "source": [
    "input_dim=[784, 784]\n",
    "max_epochs = 10\n",
    "batch_size = 2000\n",
    "latent_dim = 2"
   ]
  },
  {
   "cell_type": "markdown",
   "metadata": {},
   "source": [
    "### Define models"
   ]
  },
  {
   "cell_type": "code",
   "execution_count": 5,
   "metadata": {},
   "outputs": [
    {
     "name": "stderr",
     "output_type": "stream",
     "text": [
      "Global seed set to 42\n"
     ]
    },
    {
     "name": "stdout",
     "output_type": "stream",
     "text": [
      "MODEL:  mcVAE\n",
      "model:\n",
      "  use_GPU: false\n",
      "  save_model: true\n",
      "  seed_everything: true\n",
      "  seed: 42\n",
      "  z_dim: 64\n",
      "  learning_rate: 0.001\n",
      "  sparse: false\n",
      "  beta: 1\n",
      "  \n",
      "datamodule:\n",
      "  _target_: multiae.base.dataloaders.MultiviewDataModule\n",
      "  batch_size: null\n",
      "  is_validate: true\n",
      "  train_size: 0.9\n",
      "  \n",
      "encoder:\n",
      "  _target_: multiae.models.layers.VariationalEncoder\n",
      "  hidden_layer_dim:\n",
      "  - 512\n",
      "  - 512\n",
      "  bias: true\n",
      "  non_linear: true\n",
      "  enc_dist:\n",
      "    _target_: multiae.base.distributions.Normal\n",
      "  \n",
      "decoder:\n",
      "  _target_: multiae.architectures.mlp.Decoder\n",
      "  hidden_layer_dim:\n",
      "  - 512\n",
      "  - 512\n",
      "  bias: true\n",
      "  non_linear: true\n",
      "  dec_dist:\n",
      "    _target_: multiae.base.distributions.Bernoulli\n",
      "  init_logvar: -3\n",
      "  \n",
      "prior:\n",
      "  _target_: multiae.base.distributions.Normal\n",
      "  loc: 0\n",
      "  scale: 1\n",
      "  \n",
      "trainer:\n",
      "  _target_: pytorch_lightning.Trainer\n",
      "  gpus: 0\n",
      "  max_epochs: 10\n",
      "  deterministic: false\n",
      "  log_every_n_steps: 2\n",
      "  resume_from_checkpoint: null\n",
      "  \n",
      "callbacks:\n",
      "  model_checkpoint:\n",
      "    _target_: pytorch_lightning.callbacks.ModelCheckpoint\n",
      "    monitor: val_loss\n",
      "    mode: min\n",
      "    save_last: true\n",
      "    dirpath: ${out_dir}\n",
      "  early_stopping:\n",
      "    _target_: pytorch_lightning.callbacks.EarlyStopping\n",
      "    monitor: val_loss\n",
      "    mode: min\n",
      "    patience: 50\n",
      "    min_delta: 0.001\n",
      "    verbose: true\n",
      "  \n",
      "logger:\n",
      "  _target_: pytorch_lightning.loggers.tensorboard.TensorBoardLogger\n",
      "  save_dir: ${out_dir}/logs\n",
      "  \n"
     ]
    },
    {
     "name": "stderr",
     "output_type": "stream",
     "text": [
      "Global seed set to 42\n"
     ]
    },
    {
     "name": "stdout",
     "output_type": "stream",
     "text": [
      "MODEL:  DVCCA\n",
      "model:\n",
      "  use_GPU: false\n",
      "  save_model: true\n",
      "  seed_everything: true\n",
      "  seed: 42\n",
      "  z_dim: 64\n",
      "  learning_rate: 0.001\n",
      "  sparse: false\n",
      "  beta: 1\n",
      "  private: false\n",
      "  \n",
      "datamodule:\n",
      "  _target_: multiae.base.dataloaders.MultiviewDataModule\n",
      "  batch_size: null\n",
      "  is_validate: true\n",
      "  train_size: 0.9\n",
      "  \n",
      "encoder:\n",
      "  _target_: multiae.models.layers.VariationalEncoder\n",
      "  hidden_layer_dim:\n",
      "  - 512\n",
      "  - 512\n",
      "  bias: true\n",
      "  non_linear: true\n",
      "  enc_dist:\n",
      "    _target_: multiae.base.distributions.Normal\n",
      "  \n",
      "decoder:\n",
      "  _target_: multiae.architectures.mlp.Decoder\n",
      "  hidden_layer_dim:\n",
      "  - 512\n",
      "  - 512\n",
      "  bias: true\n",
      "  non_linear: true\n",
      "  dec_dist:\n",
      "    _target_: multiae.base.distributions.Bernoulli\n",
      "  init_logvar: -3\n",
      "  \n",
      "prior:\n",
      "  _target_: multiae.base.distributions.Normal\n",
      "  loc: 0\n",
      "  scale: 1\n",
      "  \n",
      "trainer:\n",
      "  _target_: pytorch_lightning.Trainer\n",
      "  gpus: 0\n",
      "  max_epochs: 10\n",
      "  deterministic: false\n",
      "  log_every_n_steps: 2\n",
      "  resume_from_checkpoint: null\n",
      "  \n",
      "callbacks:\n",
      "  model_checkpoint:\n",
      "    _target_: pytorch_lightning.callbacks.ModelCheckpoint\n",
      "    monitor: val_loss\n",
      "    mode: min\n",
      "    save_last: true\n",
      "    dirpath: ${out_dir}\n",
      "  early_stopping:\n",
      "    _target_: pytorch_lightning.callbacks.EarlyStopping\n",
      "    monitor: val_loss\n",
      "    mode: min\n",
      "    patience: 50\n",
      "    min_delta: 0.001\n",
      "    verbose: true\n",
      "  \n",
      "logger:\n",
      "  _target_: pytorch_lightning.loggers.tensorboard.TensorBoardLogger\n",
      "  save_dir: ${out_dir}/logs\n",
      "  \n"
     ]
    }
   ],
   "source": [
    "mcvae = mcVAE(\n",
    "        cfg=\"./config/example_mnist.yaml\",\n",
    "        input_dim=input_dim,\n",
    "        z_dim=latent_dim,\n",
    "    )\n",
    "dvcca = DVCCA(\n",
    "        cfg=\"./config/example_mnist.yaml\",\n",
    "        input_dim=input_dim,\n",
    "        z_dim=latent_dim,\n",
    "    )\n"
   ]
  },
  {
   "cell_type": "markdown",
   "metadata": {},
   "source": [
    "### Train the models"
   ]
  },
  {
   "cell_type": "code",
   "execution_count": null,
   "metadata": {},
   "outputs": [],
   "source": [
    "\n",
    "mcvae.fit(data_1, data_2, max_epochs=max_epochs, batch_size=batch_size)\n",
    "dvcca.fit(data_1, data_2, max_epochs=max_epochs, batch_size=batch_size)"
   ]
  },
  {
   "cell_type": "markdown",
   "metadata": {},
   "source": [
    "### Create latent plots - how well does the latent space separate MNIST labels?"
   ]
  },
  {
   "cell_type": "code",
   "execution_count": null,
   "metadata": {},
   "outputs": [],
   "source": [
    "mcvae_latent = mcvae.predict_latents(data_test_1, data_test_2)\n",
    "dvcca_latent = dvcca.predict_latents(data_test_1, data_test_2)"
   ]
  },
  {
   "cell_type": "code",
   "execution_count": null,
   "metadata": {},
   "outputs": [],
   "source": [
    "colors =        {0: 'tab:blue',\n",
    "                 1:'tab:orange',\n",
    "                 2: 'r',\n",
    "                 3: 'c',\n",
    "                 4: 'm',\n",
    "                 5: 'y',\n",
    "                 6: 'g',\n",
    "                 7: 'k',\n",
    "                 8: 'tab:pink',\n",
    "                 9: 'tab:gray'\n",
    "                 }\n",
    "fig=plt.figure(figsize=(8,6)) \n",
    "ax1 = fig.add_subplot(1, 1, 1)\n",
    "ax1.scatter(dvcca_latent[0][:,0], dvcca_latent[0][:,1], c=pd.Series(target_test).map(colors))\n",
    "ax1.set_title('DVCCA latent vectors')\n",
    "handles, labels = plt.gca().get_legend_handles_labels()\n",
    "by_label = OrderedDict(zip(labels, handles))\n",
    "plt.legend(by_label.values(), by_label.keys())\n",
    "plt.tight_layout()\n",
    "plt.show()"
   ]
  },
  {
   "cell_type": "code",
   "execution_count": null,
   "metadata": {},
   "outputs": [],
   "source": [
    "fig=plt.figure(figsize=(8,6)) \n",
    "ax1 = fig.add_subplot(1, 2, 1)\n",
    "ax1.scatter(mcvae_latent[0][:,0], mcvae_latent[0][:,1], c=pd.Series(target_test).map(colors))\n",
    "ax1.set_title('mcVAE latent vectors view 1')\n",
    "ax2 = fig.add_subplot(1, 2, 2)\n",
    "ax2.scatter(mcvae_latent[1][:,0], mcvae_latent[1][:,1], c=pd.Series(target_test).map(colors))\n",
    "ax2.set_title('mcVAE latent vectors view 2')\n",
    "handles, labels = plt.gca().get_legend_handles_labels()\n",
    "by_label = OrderedDict(zip(labels, handles))\n",
    "plt.legend(by_label.values(), by_label.keys())\n",
    "plt.tight_layout()\n",
    "plt.show()"
   ]
  },
  {
   "cell_type": "markdown",
   "metadata": {},
   "source": [
    "### mcVAE reconstruction example"
   ]
  },
  {
   "cell_type": "code",
   "execution_count": null,
   "metadata": {},
   "outputs": [],
   "source": [
    "pred = mcvae.predict_reconstruction(data_1, data_2)"
   ]
  },
  {
   "cell_type": "markdown",
   "metadata": {},
   "source": [
    "### Reconstruction plots - how well can the VAE do same view reconstruction?"
   ]
  },
  {
   "cell_type": "code",
   "execution_count": null,
   "metadata": {},
   "outputs": [],
   "source": [
    "data_sample = data_1[20]\n",
    "#indices: view 1 latent, view 1 decoder, sample 21\n",
    "pred_sample = pred[0][0][20]"
   ]
  },
  {
   "cell_type": "code",
   "execution_count": null,
   "metadata": {},
   "outputs": [],
   "source": [
    "fig, axarr = plt.subplots(1, 2)\n",
    "plt.rc('text', usetex=True)\n",
    "plt.rc('font', family='serif')\n",
    "axarr[0].imshow(data_sample.reshape(28,28))\n",
    "axarr[1].imshow(pred_sample.reshape(28,28))"
   ]
  },
  {
   "cell_type": "markdown",
   "metadata": {},
   "source": [
    "### Reconstruction plots - how well can the VAE do cross view reconstruction?"
   ]
  },
  {
   "cell_type": "code",
   "execution_count": null,
   "metadata": {},
   "outputs": [],
   "source": [
    "data_sample = data_1[20]\n",
    "#indices: view 1 latent, view 2 decoder, sample 21\n",
    "pred_sample = pred[1][1][20]"
   ]
  },
  {
   "cell_type": "code",
   "execution_count": null,
   "metadata": {
    "scrolled": true
   },
   "outputs": [],
   "source": [
    "fig, axarr = plt.subplots(1, 2)\n",
    "plt.rc('text', usetex=True)\n",
    "plt.rc('font', family='serif')\n",
    "axarr[0].imshow(data_sample.reshape(28,28))\n",
    "axarr[1].imshow(pred_sample.reshape(28,28))"
   ]
  },
  {
   "cell_type": "code",
   "execution_count": null,
   "metadata": {},
   "outputs": [],
   "source": []
  }
 ],
 "metadata": {
  "interpreter": {
   "hash": "25d27a636ca7d82978377acc0fe2cda1c8d21dda535731fd4cd710269b704091"
  },
  "kernelspec": {
   "display_name": "Python 3.8.13 ('testing_doc')",
   "language": "python",
   "name": "python3"
  },
  "language_info": {
   "codemirror_mode": {
    "name": "ipython",
    "version": 3
   },
   "file_extension": ".py",
   "mimetype": "text/x-python",
   "name": "python",
   "nbconvert_exporter": "python",
   "pygments_lexer": "ipython3",
   "version": "3.8.13"
  }
 },
 "nbformat": 4,
 "nbformat_minor": 2
}
